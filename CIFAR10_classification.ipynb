{
  "nbformat": 4,
  "nbformat_minor": 0,
  "metadata": {
    "colab": {
      "name": "CIFAR10_classification.ipynb",
      "provenance": []
    },
    "kernelspec": {
      "name": "python3",
      "display_name": "Python 3"
    },
    "accelerator": "GPU"
  },
  "cells": [
    {
      "cell_type": "code",
      "metadata": {
        "id": "UufI7OpWGRvH",
        "colab_type": "code",
        "colab": {}
      },
      "source": [
        "from sklearn.preprocessing import LabelBinarizer\n",
        "from sklearn.metrics import classification_report\n",
        "from tensorflow.keras.models import Sequential\n",
        "from tensorflow.keras.datasets import cifar10\n",
        "from tensorflow.keras.optimizers import SGD\n",
        "from tensorflow.keras.layers import Dense\n",
        "import matplotlib.pyplot as plt\n",
        "import numpy as np\n",
        "import argparse"
      ],
      "execution_count": 0,
      "outputs": []
    },
    {
      "cell_type": "code",
      "metadata": {
        "id": "S9DngZPiGXdN",
        "colab_type": "code",
        "colab": {
          "base_uri": "https://localhost:8080/",
          "height": 51
        },
        "outputId": "1b69f5ce-8e30-4d55-e799-c734335476e3"
      },
      "source": [
        "#ap = argparse.ArgumentParser()\n",
        "#3               help=\"/home/toshitt\")\n",
        "\n",
        "#args = vars(ap.parse_args())\n",
        "\n",
        "print(\"[INFO] loading cifar dataset\")\n",
        "((trainX,trainY),(testX,testY)) = cifar10.load_data()\n",
        "\n",
        "trainX = trainX.astype(\"float\") / 255.0\n",
        "testX = testX.astype(\"float\") / 255.0\n",
        "\n",
        "print(trainX.shape[0])"
      ],
      "execution_count": 12,
      "outputs": [
        {
          "output_type": "stream",
          "text": [
            "[INFO] loading cifar dataset\n",
            "50000\n"
          ],
          "name": "stdout"
        }
      ]
    },
    {
      "cell_type": "code",
      "metadata": {
        "id": "7nRokrzKI_Lq",
        "colab_type": "code",
        "colab": {
          "base_uri": "https://localhost:8080/",
          "height": 34
        },
        "outputId": "aa4be723-ac33-4dcb-d856-2974f078c015"
      },
      "source": [
        "print(trainX.shape)"
      ],
      "execution_count": 13,
      "outputs": [
        {
          "output_type": "stream",
          "text": [
            "(50000, 32, 32, 3)\n"
          ],
          "name": "stdout"
        }
      ]
    },
    {
      "cell_type": "code",
      "metadata": {
        "id": "hEojqS3nJC7a",
        "colab_type": "code",
        "colab": {}
      },
      "source": [
        "trainX = trainX.reshape((trainX.shape[0],3072))\n",
        "testX = testX.reshape((testX.shape[0],3072))\n",
        "\n",
        "lb = LabelBinarizer()\n",
        "trainY = lb.fit_transform(trainY)\n",
        "testY  = lb.fit_transform(testY)\n",
        "\n",
        "labelNames = [\"airplane\",\"automobile\",\"bird\",\"cat\",\"deer\",\n",
        "              \"dog\",\"frog\",\"horse\",\"ship\",\"truck\"]"
      ],
      "execution_count": 0,
      "outputs": []
    },
    {
      "cell_type": "code",
      "metadata": {
        "id": "AtNKdLdmJ083",
        "colab_type": "code",
        "colab": {}
      },
      "source": [
        "model=Sequential()\n",
        "\n",
        "model.add(Dense(1024,input_shape=(3072,),activation=\"relu\"))\n",
        "model.add(Dense(512,activation=\"relu\"))\n",
        "model.add(Dense(10,activation=\"softmax\"))"
      ],
      "execution_count": 0,
      "outputs": []
    },
    {
      "cell_type": "code",
      "metadata": {
        "id": "kj9Cy3umKRxH",
        "colab_type": "code",
        "colab": {
          "base_uri": "https://localhost:8080/",
          "height": 1000
        },
        "outputId": "0e3c0dd3-e15f-410b-f78c-084004cbec5d"
      },
      "source": [
        "print(\"[INFO] training network .. .. \")\n",
        "\n",
        "sgd = SGD(0.01)\n",
        "\n",
        "model.compile(loss=\"categorical_crossentropy\",optimizer=sgd,\n",
        "              metrics=[\"accuracy\"])\n",
        "\n",
        "H = model.fit(trainX,trainY,validation_data=(testX,testY),\n",
        "              epochs=100,batch_size=32)\n",
        "\n"
      ],
      "execution_count": 18,
      "outputs": [
        {
          "output_type": "stream",
          "text": [
            "[INFO] training network .. .. \n",
            "Epoch 1/100\n",
            "1563/1563 [==============================] - 4s 3ms/step - loss: 1.8362 - accuracy: 0.3435 - val_loss: 1.6895 - val_accuracy: 0.4070\n",
            "Epoch 2/100\n",
            "1563/1563 [==============================] - 4s 3ms/step - loss: 1.6474 - accuracy: 0.4185 - val_loss: 1.6428 - val_accuracy: 0.4109\n",
            "Epoch 3/100\n",
            "1563/1563 [==============================] - 4s 3ms/step - loss: 1.5649 - accuracy: 0.4484 - val_loss: 1.5403 - val_accuracy: 0.4613\n",
            "Epoch 4/100\n",
            "1563/1563 [==============================] - 4s 3ms/step - loss: 1.5082 - accuracy: 0.4672 - val_loss: 1.5049 - val_accuracy: 0.4616\n",
            "Epoch 5/100\n",
            "1563/1563 [==============================] - 4s 3ms/step - loss: 1.4598 - accuracy: 0.4845 - val_loss: 1.4695 - val_accuracy: 0.4727\n",
            "Epoch 6/100\n",
            "1563/1563 [==============================] - 4s 3ms/step - loss: 1.4177 - accuracy: 0.4982 - val_loss: 1.4533 - val_accuracy: 0.4853\n",
            "Epoch 7/100\n",
            "1563/1563 [==============================] - 4s 3ms/step - loss: 1.3825 - accuracy: 0.5133 - val_loss: 1.4892 - val_accuracy: 0.4608\n",
            "Epoch 8/100\n",
            "1563/1563 [==============================] - 4s 3ms/step - loss: 1.3506 - accuracy: 0.5248 - val_loss: 1.4747 - val_accuracy: 0.4764\n",
            "Epoch 9/100\n",
            "1563/1563 [==============================] - 4s 3ms/step - loss: 1.3207 - accuracy: 0.5343 - val_loss: 1.5017 - val_accuracy: 0.4635\n",
            "Epoch 10/100\n",
            "1563/1563 [==============================] - 4s 3ms/step - loss: 1.2921 - accuracy: 0.5444 - val_loss: 1.4932 - val_accuracy: 0.4664\n",
            "Epoch 11/100\n",
            "1563/1563 [==============================] - 4s 3ms/step - loss: 1.2668 - accuracy: 0.5531 - val_loss: 1.3807 - val_accuracy: 0.5085\n",
            "Epoch 12/100\n",
            "1563/1563 [==============================] - 4s 3ms/step - loss: 1.2379 - accuracy: 0.5638 - val_loss: 1.3914 - val_accuracy: 0.5050\n",
            "Epoch 13/100\n",
            "1563/1563 [==============================] - 4s 3ms/step - loss: 1.2147 - accuracy: 0.5729 - val_loss: 1.3515 - val_accuracy: 0.5186\n",
            "Epoch 14/100\n",
            "1563/1563 [==============================] - 4s 3ms/step - loss: 1.1911 - accuracy: 0.5815 - val_loss: 1.3868 - val_accuracy: 0.5034\n",
            "Epoch 15/100\n",
            "1563/1563 [==============================] - 4s 3ms/step - loss: 1.1676 - accuracy: 0.5924 - val_loss: 1.4743 - val_accuracy: 0.5041\n",
            "Epoch 16/100\n",
            "1563/1563 [==============================] - 4s 3ms/step - loss: 1.1486 - accuracy: 0.5977 - val_loss: 1.4962 - val_accuracy: 0.4711\n",
            "Epoch 17/100\n",
            "1563/1563 [==============================] - 4s 3ms/step - loss: 1.1218 - accuracy: 0.6072 - val_loss: 1.3704 - val_accuracy: 0.5186\n",
            "Epoch 18/100\n",
            "1563/1563 [==============================] - 4s 3ms/step - loss: 1.0994 - accuracy: 0.6156 - val_loss: 1.5583 - val_accuracy: 0.4666\n",
            "Epoch 19/100\n",
            "1563/1563 [==============================] - 4s 3ms/step - loss: 1.0804 - accuracy: 0.6211 - val_loss: 1.3290 - val_accuracy: 0.5260\n",
            "Epoch 20/100\n",
            "1563/1563 [==============================] - 4s 3ms/step - loss: 1.0590 - accuracy: 0.6285 - val_loss: 1.3381 - val_accuracy: 0.5286\n",
            "Epoch 21/100\n",
            "1563/1563 [==============================] - 4s 3ms/step - loss: 1.0344 - accuracy: 0.6381 - val_loss: 1.4696 - val_accuracy: 0.5037\n",
            "Epoch 22/100\n",
            "1563/1563 [==============================] - 4s 3ms/step - loss: 1.0157 - accuracy: 0.6437 - val_loss: 1.3808 - val_accuracy: 0.5166\n",
            "Epoch 23/100\n",
            "1563/1563 [==============================] - 4s 3ms/step - loss: 0.9929 - accuracy: 0.6541 - val_loss: 1.3748 - val_accuracy: 0.5251\n",
            "Epoch 24/100\n",
            "1563/1563 [==============================] - 4s 3ms/step - loss: 0.9735 - accuracy: 0.6590 - val_loss: 1.3766 - val_accuracy: 0.5264\n",
            "Epoch 25/100\n",
            "1563/1563 [==============================] - 4s 3ms/step - loss: 0.9518 - accuracy: 0.6695 - val_loss: 1.3844 - val_accuracy: 0.5227\n",
            "Epoch 26/100\n",
            "1563/1563 [==============================] - 4s 3ms/step - loss: 0.9337 - accuracy: 0.6736 - val_loss: 1.3106 - val_accuracy: 0.5444\n",
            "Epoch 27/100\n",
            "1563/1563 [==============================] - 4s 3ms/step - loss: 0.9097 - accuracy: 0.6844 - val_loss: 1.3561 - val_accuracy: 0.5339\n",
            "Epoch 28/100\n",
            "1563/1563 [==============================] - 4s 3ms/step - loss: 0.8849 - accuracy: 0.6930 - val_loss: 1.4555 - val_accuracy: 0.5060\n",
            "Epoch 29/100\n",
            "1563/1563 [==============================] - 4s 3ms/step - loss: 0.8669 - accuracy: 0.6993 - val_loss: 1.4356 - val_accuracy: 0.5061\n",
            "Epoch 30/100\n",
            "1563/1563 [==============================] - 4s 3ms/step - loss: 0.8457 - accuracy: 0.7061 - val_loss: 1.3902 - val_accuracy: 0.5313\n",
            "Epoch 31/100\n",
            "1563/1563 [==============================] - 4s 3ms/step - loss: 0.8242 - accuracy: 0.7141 - val_loss: 1.4324 - val_accuracy: 0.5196\n",
            "Epoch 32/100\n",
            "1563/1563 [==============================] - 4s 3ms/step - loss: 0.8039 - accuracy: 0.7216 - val_loss: 1.4516 - val_accuracy: 0.5184\n",
            "Epoch 33/100\n",
            "1563/1563 [==============================] - 4s 3ms/step - loss: 0.7852 - accuracy: 0.7277 - val_loss: 1.4051 - val_accuracy: 0.5352\n",
            "Epoch 34/100\n",
            "1563/1563 [==============================] - 4s 3ms/step - loss: 0.7643 - accuracy: 0.7350 - val_loss: 1.4234 - val_accuracy: 0.5294\n",
            "Epoch 35/100\n",
            "1563/1563 [==============================] - 4s 3ms/step - loss: 0.7427 - accuracy: 0.7431 - val_loss: 1.5020 - val_accuracy: 0.5252\n",
            "Epoch 36/100\n",
            "1563/1563 [==============================] - 4s 3ms/step - loss: 0.7250 - accuracy: 0.7503 - val_loss: 1.3580 - val_accuracy: 0.5526\n",
            "Epoch 37/100\n",
            "1563/1563 [==============================] - 4s 3ms/step - loss: 0.7005 - accuracy: 0.7579 - val_loss: 1.4826 - val_accuracy: 0.5265\n",
            "Epoch 38/100\n",
            "1563/1563 [==============================] - 4s 3ms/step - loss: 0.6810 - accuracy: 0.7663 - val_loss: 1.4657 - val_accuracy: 0.5344\n",
            "Epoch 39/100\n",
            "1563/1563 [==============================] - 4s 3ms/step - loss: 0.6632 - accuracy: 0.7711 - val_loss: 1.4011 - val_accuracy: 0.5493\n",
            "Epoch 40/100\n",
            "1563/1563 [==============================] - 4s 3ms/step - loss: 0.6471 - accuracy: 0.7786 - val_loss: 1.5354 - val_accuracy: 0.5326\n",
            "Epoch 41/100\n",
            "1563/1563 [==============================] - 4s 3ms/step - loss: 0.6225 - accuracy: 0.7871 - val_loss: 1.4132 - val_accuracy: 0.5519\n",
            "Epoch 42/100\n",
            "1563/1563 [==============================] - 4s 3ms/step - loss: 0.6005 - accuracy: 0.7959 - val_loss: 1.5918 - val_accuracy: 0.5201\n",
            "Epoch 43/100\n",
            "1563/1563 [==============================] - 4s 3ms/step - loss: 0.5845 - accuracy: 0.8001 - val_loss: 1.4535 - val_accuracy: 0.5410\n",
            "Epoch 44/100\n",
            "1563/1563 [==============================] - 4s 3ms/step - loss: 0.5617 - accuracy: 0.8097 - val_loss: 1.4225 - val_accuracy: 0.5526\n",
            "Epoch 45/100\n",
            "1563/1563 [==============================] - 4s 3ms/step - loss: 0.5414 - accuracy: 0.8171 - val_loss: 1.5861 - val_accuracy: 0.5157\n",
            "Epoch 46/100\n",
            "1563/1563 [==============================] - 4s 3ms/step - loss: 0.5257 - accuracy: 0.8224 - val_loss: 1.6008 - val_accuracy: 0.5237\n",
            "Epoch 47/100\n",
            "1563/1563 [==============================] - 4s 3ms/step - loss: 0.5076 - accuracy: 0.8304 - val_loss: 1.6412 - val_accuracy: 0.5226\n",
            "Epoch 48/100\n",
            "1563/1563 [==============================] - 4s 3ms/step - loss: 0.4911 - accuracy: 0.8338 - val_loss: 1.6045 - val_accuracy: 0.5345\n",
            "Epoch 49/100\n",
            "1563/1563 [==============================] - 4s 3ms/step - loss: 0.4718 - accuracy: 0.8423 - val_loss: 1.7814 - val_accuracy: 0.5113\n",
            "Epoch 50/100\n",
            "1563/1563 [==============================] - 4s 3ms/step - loss: 0.4567 - accuracy: 0.8478 - val_loss: 1.5365 - val_accuracy: 0.5492\n",
            "Epoch 51/100\n",
            "1563/1563 [==============================] - 4s 3ms/step - loss: 0.4365 - accuracy: 0.8540 - val_loss: 1.5724 - val_accuracy: 0.5475\n",
            "Epoch 52/100\n",
            "1563/1563 [==============================] - 4s 3ms/step - loss: 0.4206 - accuracy: 0.8620 - val_loss: 1.7412 - val_accuracy: 0.5232\n",
            "Epoch 53/100\n",
            "1563/1563 [==============================] - 4s 3ms/step - loss: 0.4045 - accuracy: 0.8665 - val_loss: 1.6467 - val_accuracy: 0.5315\n",
            "Epoch 54/100\n",
            "1563/1563 [==============================] - 4s 3ms/step - loss: 0.3872 - accuracy: 0.8727 - val_loss: 2.3963 - val_accuracy: 0.4469\n",
            "Epoch 55/100\n",
            "1563/1563 [==============================] - 4s 3ms/step - loss: 0.3748 - accuracy: 0.8781 - val_loss: 1.6542 - val_accuracy: 0.5392\n",
            "Epoch 56/100\n",
            "1563/1563 [==============================] - 4s 3ms/step - loss: 0.3587 - accuracy: 0.8829 - val_loss: 1.6123 - val_accuracy: 0.5521\n",
            "Epoch 57/100\n",
            "1563/1563 [==============================] - 4s 3ms/step - loss: 0.3425 - accuracy: 0.8899 - val_loss: 1.6580 - val_accuracy: 0.5483\n",
            "Epoch 58/100\n",
            "1563/1563 [==============================] - 5s 3ms/step - loss: 0.3287 - accuracy: 0.8941 - val_loss: 1.8411 - val_accuracy: 0.5315\n",
            "Epoch 59/100\n",
            "1563/1563 [==============================] - 5s 3ms/step - loss: 0.3117 - accuracy: 0.9022 - val_loss: 1.7344 - val_accuracy: 0.5475\n",
            "Epoch 60/100\n",
            "1563/1563 [==============================] - 4s 3ms/step - loss: 0.2971 - accuracy: 0.9081 - val_loss: 1.7034 - val_accuracy: 0.5554\n",
            "Epoch 61/100\n",
            "1563/1563 [==============================] - 4s 3ms/step - loss: 0.2866 - accuracy: 0.9101 - val_loss: 1.8225 - val_accuracy: 0.5390\n",
            "Epoch 62/100\n",
            "1563/1563 [==============================] - 4s 3ms/step - loss: 0.2737 - accuracy: 0.9153 - val_loss: 1.8370 - val_accuracy: 0.5336\n",
            "Epoch 63/100\n",
            "1563/1563 [==============================] - 5s 3ms/step - loss: 0.2607 - accuracy: 0.9204 - val_loss: 1.9278 - val_accuracy: 0.5333\n",
            "Epoch 64/100\n",
            "1563/1563 [==============================] - 4s 3ms/step - loss: 0.2513 - accuracy: 0.9235 - val_loss: 1.7412 - val_accuracy: 0.5623\n",
            "Epoch 65/100\n",
            "1563/1563 [==============================] - 4s 3ms/step - loss: 0.2356 - accuracy: 0.9293 - val_loss: 1.7202 - val_accuracy: 0.5639\n",
            "Epoch 66/100\n",
            "1563/1563 [==============================] - 4s 3ms/step - loss: 0.2226 - accuracy: 0.9338 - val_loss: 1.8364 - val_accuracy: 0.5577\n",
            "Epoch 67/100\n",
            "1563/1563 [==============================] - 4s 3ms/step - loss: 0.2188 - accuracy: 0.9343 - val_loss: 1.8380 - val_accuracy: 0.5528\n",
            "Epoch 68/100\n",
            "1563/1563 [==============================] - 4s 3ms/step - loss: 0.2028 - accuracy: 0.9403 - val_loss: 1.8898 - val_accuracy: 0.5453\n",
            "Epoch 69/100\n",
            "1563/1563 [==============================] - 4s 3ms/step - loss: 0.1928 - accuracy: 0.9436 - val_loss: 1.8197 - val_accuracy: 0.5615\n",
            "Epoch 70/100\n",
            "1563/1563 [==============================] - 4s 3ms/step - loss: 0.1821 - accuracy: 0.9476 - val_loss: 1.8812 - val_accuracy: 0.5590\n",
            "Epoch 71/100\n",
            "1563/1563 [==============================] - 4s 3ms/step - loss: 0.1738 - accuracy: 0.9503 - val_loss: 2.0156 - val_accuracy: 0.5537\n",
            "Epoch 72/100\n",
            "1563/1563 [==============================] - 4s 3ms/step - loss: 0.1673 - accuracy: 0.9531 - val_loss: 2.1304 - val_accuracy: 0.5368\n",
            "Epoch 73/100\n",
            "1563/1563 [==============================] - 4s 3ms/step - loss: 0.1523 - accuracy: 0.9580 - val_loss: 1.9688 - val_accuracy: 0.5572\n",
            "Epoch 74/100\n",
            "1563/1563 [==============================] - 4s 3ms/step - loss: 0.1455 - accuracy: 0.9613 - val_loss: 1.9700 - val_accuracy: 0.5507\n",
            "Epoch 75/100\n",
            "1563/1563 [==============================] - 4s 3ms/step - loss: 0.1324 - accuracy: 0.9668 - val_loss: 2.0092 - val_accuracy: 0.5541\n",
            "Epoch 76/100\n",
            "1563/1563 [==============================] - 4s 3ms/step - loss: 0.1343 - accuracy: 0.9639 - val_loss: 1.9651 - val_accuracy: 0.5620\n",
            "Epoch 77/100\n",
            "1563/1563 [==============================] - 4s 3ms/step - loss: 0.1212 - accuracy: 0.9693 - val_loss: 1.9830 - val_accuracy: 0.5627\n",
            "Epoch 78/100\n",
            "1563/1563 [==============================] - 4s 3ms/step - loss: 0.1193 - accuracy: 0.9696 - val_loss: 2.0172 - val_accuracy: 0.5605\n",
            "Epoch 79/100\n",
            "1563/1563 [==============================] - 4s 3ms/step - loss: 0.1089 - accuracy: 0.9732 - val_loss: 2.0917 - val_accuracy: 0.5539\n",
            "Epoch 80/100\n",
            "1563/1563 [==============================] - 4s 3ms/step - loss: 0.0986 - accuracy: 0.9776 - val_loss: 2.0368 - val_accuracy: 0.5656\n",
            "Epoch 81/100\n",
            "1563/1563 [==============================] - 4s 3ms/step - loss: 0.0939 - accuracy: 0.9782 - val_loss: 2.0670 - val_accuracy: 0.5638\n",
            "Epoch 82/100\n",
            "1563/1563 [==============================] - 4s 3ms/step - loss: 0.0864 - accuracy: 0.9813 - val_loss: 2.0976 - val_accuracy: 0.5599\n",
            "Epoch 83/100\n",
            "1563/1563 [==============================] - 4s 3ms/step - loss: 0.0852 - accuracy: 0.9809 - val_loss: 2.2672 - val_accuracy: 0.5439\n",
            "Epoch 84/100\n",
            "1563/1563 [==============================] - 4s 3ms/step - loss: 0.0775 - accuracy: 0.9839 - val_loss: 2.1066 - val_accuracy: 0.5627\n",
            "Epoch 85/100\n",
            "1563/1563 [==============================] - 4s 3ms/step - loss: 0.0756 - accuracy: 0.9838 - val_loss: 2.1923 - val_accuracy: 0.5562\n",
            "Epoch 86/100\n",
            "1563/1563 [==============================] - 4s 3ms/step - loss: 0.0707 - accuracy: 0.9853 - val_loss: 2.1014 - val_accuracy: 0.5691\n",
            "Epoch 87/100\n",
            "1563/1563 [==============================] - 4s 3ms/step - loss: 0.0632 - accuracy: 0.9877 - val_loss: 2.4357 - val_accuracy: 0.5332\n",
            "Epoch 88/100\n",
            "1563/1563 [==============================] - 4s 3ms/step - loss: 0.0590 - accuracy: 0.9888 - val_loss: 2.1562 - val_accuracy: 0.5622\n",
            "Epoch 89/100\n",
            "1563/1563 [==============================] - 4s 3ms/step - loss: 0.0544 - accuracy: 0.9904 - val_loss: 2.1610 - val_accuracy: 0.5662\n",
            "Epoch 90/100\n",
            "1563/1563 [==============================] - 4s 3ms/step - loss: 0.0575 - accuracy: 0.9883 - val_loss: 2.3518 - val_accuracy: 0.5447\n",
            "Epoch 91/100\n",
            "1563/1563 [==============================] - 4s 3ms/step - loss: 0.0477 - accuracy: 0.9922 - val_loss: 2.1844 - val_accuracy: 0.5687\n",
            "Epoch 92/100\n",
            "1563/1563 [==============================] - 4s 3ms/step - loss: 0.0442 - accuracy: 0.9928 - val_loss: 2.1944 - val_accuracy: 0.5674\n",
            "Epoch 93/100\n",
            "1563/1563 [==============================] - 4s 3ms/step - loss: 0.0400 - accuracy: 0.9944 - val_loss: 2.6290 - val_accuracy: 0.5280\n",
            "Epoch 94/100\n",
            "1563/1563 [==============================] - 4s 3ms/step - loss: 0.0379 - accuracy: 0.9948 - val_loss: 2.2821 - val_accuracy: 0.5703\n",
            "Epoch 95/100\n",
            "1563/1563 [==============================] - 4s 3ms/step - loss: 0.0377 - accuracy: 0.9944 - val_loss: 2.3211 - val_accuracy: 0.5605\n",
            "Epoch 96/100\n",
            "1563/1563 [==============================] - 4s 3ms/step - loss: 0.0348 - accuracy: 0.9949 - val_loss: 2.2393 - val_accuracy: 0.5688\n",
            "Epoch 97/100\n",
            "1563/1563 [==============================] - 4s 3ms/step - loss: 0.0317 - accuracy: 0.9960 - val_loss: 2.2673 - val_accuracy: 0.5713\n",
            "Epoch 98/100\n",
            "1563/1563 [==============================] - 4s 3ms/step - loss: 0.0294 - accuracy: 0.9965 - val_loss: 2.4612 - val_accuracy: 0.5403\n",
            "Epoch 99/100\n",
            "1563/1563 [==============================] - 4s 3ms/step - loss: 0.0281 - accuracy: 0.9969 - val_loss: 2.2961 - val_accuracy: 0.5655\n",
            "Epoch 100/100\n",
            "1563/1563 [==============================] - 4s 3ms/step - loss: 0.0263 - accuracy: 0.9970 - val_loss: 2.2997 - val_accuracy: 0.5732\n"
          ],
          "name": "stdout"
        }
      ]
    },
    {
      "cell_type": "code",
      "metadata": {
        "id": "w1v9HqLaYsX0",
        "colab_type": "code",
        "colab": {
          "base_uri": "https://localhost:8080/",
          "height": 323
        },
        "outputId": "7b84a854-e52d-412b-beee-70523f1ee059"
      },
      "source": [
        "print(\"[INFO] evaluating network ... \")\n",
        "predictions = model.predict(testX,batch_size=32)\n",
        "print(classification_report(testY.argmax(axis=1),\n",
        "                               predictions.argmax(axis=1),target_names=labelNames  ))"
      ],
      "execution_count": 23,
      "outputs": [
        {
          "output_type": "stream",
          "text": [
            "[INFO] evaluating network ... \n",
            "              precision    recall  f1-score   support\n",
            "\n",
            "    airplane       0.63      0.66      0.64      1000\n",
            "  automobile       0.68      0.67      0.67      1000\n",
            "        bird       0.48      0.45      0.47      1000\n",
            "         cat       0.40      0.43      0.42      1000\n",
            "        deer       0.50      0.49      0.50      1000\n",
            "         dog       0.47      0.47      0.47      1000\n",
            "        frog       0.64      0.63      0.64      1000\n",
            "       horse       0.62      0.62      0.62      1000\n",
            "        ship       0.67      0.72      0.69      1000\n",
            "       truck       0.64      0.59      0.61      1000\n",
            "\n",
            "    accuracy                           0.57     10000\n",
            "   macro avg       0.57      0.57      0.57     10000\n",
            "weighted avg       0.57      0.57      0.57     10000\n",
            "\n"
          ],
          "name": "stdout"
        }
      ]
    },
    {
      "cell_type": "code",
      "metadata": {
        "id": "zp96O3-Obf6j",
        "colab_type": "code",
        "colab": {
          "base_uri": "https://localhost:8080/",
          "height": 316
        },
        "outputId": "967b0eca-63fb-448a-9d8d-261b1703622f"
      },
      "source": [
        "plt.style.use(\"ggplot\")\n",
        "plt.figure()\n",
        "plt.plot(np.arange(0,100),H.history[\"loss\"],label=\"train_loss\")\n",
        "plt.plot(np.arange(0,100),H.history[\"val_loss\"],label=\"val_loss\")\n",
        "plt.plot(np.arange(0,100),H.history[\"accuracy\"],label=\"train_acc\")\n",
        "plt.plot(np.arange(0,100),H.history[\"val_accuracy\"],label=\"val_acc\")\n",
        "plt.title(\"training validation and loss\")\n",
        "plt.xlabel(\"Epoch #\")\n",
        "plt.ylabel(\"Loss/Accuracy\")\n",
        "plt.legend()"
      ],
      "execution_count": 26,
      "outputs": [
        {
          "output_type": "execute_result",
          "data": {
            "text/plain": [
              "<matplotlib.legend.Legend at 0x7f8fa26e8d68>"
            ]
          },
          "metadata": {
            "tags": []
          },
          "execution_count": 26
        },
        {
          "output_type": "display_data",
          "data": {
            "image/png": "[encoded data removed]",
            "text/plain": [
              "<Figure size 432x288 with 1 Axes>"
            ]
          },
          "metadata": {
            "tags": []
          }
        }
      ]
    },
    {
      "cell_type": "code",
      "metadata": {
        "id": "AWahtKOPfn3Y",
        "colab_type": "code",
        "colab": {}
      },
      "source": [
        ""
      ],
      "execution_count": 0,
      "outputs": []
    }
  ]
}